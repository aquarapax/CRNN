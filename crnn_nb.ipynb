{
 "cells": [
  {
   "cell_type": "markdown",
   "id": "738c9b70",
   "metadata": {},
   "source": [
    "### Инициализация и настройки"
   ]
  },
  {
   "cell_type": "code",
   "execution_count": 6,
   "id": "e9d67bb7",
   "metadata": {},
   "outputs": [
    {
     "name": "stdout",
     "output_type": "stream",
     "text": [
      "Using device: cuda\n"
     ]
    }
   ],
   "source": [
    "import os\n",
    "import random\n",
    "import numpy as np\n",
    "import matplotlib.pyplot as plt\n",
    "from tqdm import tqdm\n",
    "import torch\n",
    "import torch.nn as nn\n",
    "import torch.optim as optim\n",
    "from torch.utils.data import DataLoader\n",
    "from torchvision import transforms\n",
    "from torch.utils.data import Dataset as TorchDataset\n",
    "\n",
    "# Настройки для воспроизводимости\n",
    "SEED = 42\n",
    "random.seed(SEED)\n",
    "np.random.seed(SEED)\n",
    "torch.manual_seed(SEED)\n",
    "torch.cuda.manual_seed(SEED)\n",
    "torch.backends.cudnn.deterministic = True\n",
    "\n",
    "# Проверка устройства\n",
    "device = torch.device('cuda' if torch.cuda.is_available() else 'cpu')\n",
    "print(f\"Using device: {device}\")"
   ]
  },
  {
   "cell_type": "markdown",
   "id": "26a635fd",
   "metadata": {},
   "source": [
    "### Определение алфавита"
   ]
  },
  {
   "cell_type": "code",
   "execution_count": 7,
   "id": "d9a3a882",
   "metadata": {},
   "outputs": [
    {
     "name": "stdout",
     "output_type": "stream",
     "text": [
      "Размер алфавита: 105\n",
      "Алфавит: АБВГДЕЁЖЗИЙКЛМНОПРСТУФХЦЧШЩЪЫЬЭЮЯ0123456789 !\"#$%&'()*+,-./:;<=>?@[\\]^_`{|}~«»№ABCDEFGHIJKLMNOPQRSTUVWXYZ\n"
     ]
    }
   ],
   "source": [
    "# Русские буквы, цифры и специальные символы\n",
    "RUSSIAN_LETTERS = 'АБВГДЕЁЖЗИЙКЛМНОПРСТУФХЦЧШЩЪЫЬЭЮЯ'\n",
    "DIGITS = '0123456789'\n",
    "SPECIAL_CHARS = ' !\"#$%&\\'()*+,-./:;<=>?@[\\\\]^_`{|}~«»№'\n",
    "LATIN_LETTERS = 'ABCDEFGHIJKLMNOPQRSTUVWXYZ'\n",
    "\n",
    "# Полный алфавит\n",
    "alphabet = ''.join(sorted(set(\n",
    "    RUSSIAN_LETTERS + DIGITS + SPECIAL_CHARS + LATIN_LETTERS\n",
    "), key=(RUSSIAN_LETTERS + DIGITS + SPECIAL_CHARS + LATIN_LETTERS).index))\n",
    "\n",
    "num_classes = len(alphabet) + 1  # +1 для blank символа CTC\n",
    "print(f\"Размер алфавита: {len(alphabet)}\")\n",
    "print(f\"Алфавит: {alphabet}\")"
   ]
  },
  {
   "cell_type": "markdown",
   "id": "4af78935",
   "metadata": {},
   "source": [
    "### Класс датасет"
   ]
  },
  {
   "cell_type": "code",
   "execution_count": 8,
   "id": "6e9f895d",
   "metadata": {},
   "outputs": [],
   "source": [
    "class ImageTextDataset(TorchDataset):\n",
    "    def __init__(self, data):\n",
    "        self.data = data\n",
    "        # Находим максимальную ширину во всем датасете\n",
    "        self.max_width = max(np.array(sample['image']).shape[2] for sample in data)\n",
    "        \n",
    "    def __len__(self):\n",
    "        return len(self.data)\n",
    "    \n",
    "    def __getitem__(self, idx):\n",
    "        sample = self.data[idx]\n",
    "        # Конвертируем в numpy array и убираем лишние размерности\n",
    "        img = np.array(sample['image']).squeeze()\n",
    "        text = sample['text']\n",
    "        \n",
    "        # Дополняем изображение до максимальной ширины\n",
    "        pad_width = self.max_width - img.shape[1]\n",
    "        if pad_width > 0:\n",
    "            img = np.pad(img, ((0, 0), (0, pad_width)), mode='constant', constant_values=0)\n",
    "            \n",
    "        return {\n",
    "            'image': torch.from_numpy(img).unsqueeze(0).float(),  # Добавляем размерность канала\n",
    "            'text': text\n",
    "        }\n",
    "\n",
    "def save_datasets(dataset_dict, save_dir=\"preprocessed_data\"):\n",
    "    \"\"\"Сохраняет датасеты в формате HuggingFace\"\"\"\n",
    "    os.makedirs(save_dir, exist_ok=True)\n",
    "    \n",
    "    for split in dataset_dict.keys():\n",
    "        # Сохраняем в родном формате HuggingFace\n",
    "        dataset_dict[split].save_to_disk(os.path.join(save_dir, split))\n",
    "    \n",
    "    print(f\"Датасеты сохранены в {save_dir}\")\n",
    "\n",
    "def load_datasets(save_dir=\"preprocessed_data\"):\n",
    "    \"\"\"Загружает датасеты из сохраненного формата\"\"\"\n",
    "    from datasets import DatasetDict, load_from_disk\n",
    "    \n",
    "    datasets = {}\n",
    "    \n",
    "    for split in ['train', 'test']:\n",
    "        split_dir = os.path.join(save_dir, split)\n",
    "        if os.path.exists(split_dir):\n",
    "            datasets[split] = load_from_disk(split_dir)\n",
    "    \n",
    "    # Конвертируем в PyTorch Dataset\n",
    "    torch_datasets = {\n",
    "        split: ImageTextDataset(datasets[split])\n",
    "        for split in datasets.keys()\n",
    "    }\n",
    "    \n",
    "    print(f\"Загружено {len(torch_datasets.get('train', []))} train и {len(torch_datasets.get('test', []))} test примеров\")\n",
    "    return torch_datasets\n",
    "\n",
    "def collate_fn(batch):\n",
    "    \"\"\"Обрабатывает батчи с изображениями разного размера\"\"\"\n",
    "    max_width = max(item['image'].shape[2] for item in batch)\n",
    "    \n",
    "    images = []\n",
    "    texts = []\n",
    "    for item in batch:\n",
    "        img = item['image']\n",
    "        pad = max_width - img.shape[2]\n",
    "        if pad > 0:\n",
    "            img = torch.nn.functional.pad(img, (0, pad))\n",
    "        images.append(img)\n",
    "        texts.append(item['text'])\n",
    "    \n",
    "    return {\n",
    "        'image': torch.stack(images),\n",
    "        'text': texts\n",
    "    }"
   ]
  },
  {
   "cell_type": "markdown",
   "id": "05be19a7",
   "metadata": {},
   "source": [
    "### Загрузка данных"
   ]
  },
  {
   "cell_type": "code",
   "execution_count": 9,
   "id": "7f6922ca",
   "metadata": {},
   "outputs": [
    {
     "name": "stdout",
     "output_type": "stream",
     "text": [
      "Загружено 72284 train и 1544 test примеров\n",
      "Train samples: 72284, Test samples: 1544\n"
     ]
    }
   ],
   "source": [
    "def collate_fn(batch):\n",
    "    \"\"\"Обработка батча с разной шириной изображений\"\"\"\n",
    "    images = [item['image'] for item in batch]\n",
    "    texts = [item['text'] for item in batch]\n",
    "    \n",
    "    # Выравнивание по максимальной ширине\n",
    "    max_width = max(img.shape[2] for img in images)\n",
    "    padded_images = []\n",
    "    for img in images:\n",
    "        pad = max_width - img.shape[2]\n",
    "        if pad > 0:\n",
    "            img = torch.nn.functional.pad(img, (0, pad))\n",
    "        padded_images.append(img)\n",
    "    \n",
    "    # Подготовка таргетов\n",
    "    max_text_len = max(len(text) for text in texts)\n",
    "    targets = torch.full((len(texts), max_text_len), num_classes-1, dtype=torch.long)\n",
    "    for i, text in enumerate(texts):\n",
    "        text = text.upper()\n",
    "        for j, char in enumerate(text):\n",
    "            if char in alphabet:\n",
    "                targets[i,j] = alphabet.index(char)\n",
    "    \n",
    "    return {\n",
    "        'image': torch.stack(padded_images),\n",
    "        'text': texts,\n",
    "        'targets': targets\n",
    "    }\n",
    "\n",
    "def load_datasets(save_dir=\"preprocessed_data\"):\n",
    "    \"\"\"Загружает датасеты из сохраненного формата\"\"\"\n",
    "    from datasets import DatasetDict, load_from_disk\n",
    "    \n",
    "    datasets = {}\n",
    "    \n",
    "    for split in ['train', 'test']:\n",
    "        split_dir = os.path.join(save_dir, split)\n",
    "        if os.path.exists(split_dir):\n",
    "            datasets[split] = load_from_disk(split_dir)\n",
    "    \n",
    "    # Конвертируем в PyTorch Dataset\n",
    "    torch_datasets = {\n",
    "        split: ImageTextDataset(datasets[split])\n",
    "        for split in datasets.keys()\n",
    "    }\n",
    "    \n",
    "    print(f\"Загружено {len(torch_datasets.get('train', []))} train и {len(torch_datasets.get('test', []))} test примеров\")\n",
    "    return torch_datasets\n",
    "\n",
    "# Загрузка данных\n",
    "torch_datasets = load_datasets()\n",
    "print(f\"Train samples: {len(torch_datasets['train'])}, Test samples: {len(torch_datasets['test'])}\")"
   ]
  },
  {
   "cell_type": "markdown",
   "id": "95684b77",
   "metadata": {},
   "source": [
    "### Визуализация данных"
   ]
  },
  {
   "cell_type": "code",
   "execution_count": 10,
   "id": "56ae13cf",
   "metadata": {},
   "outputs": [
    {
     "data": {
      "image/png": "[encoded data removed]",
      "text/plain": [
       "<Figure size 1500x300 with 4 Axes>"
      ]
     },
     "metadata": {},
     "output_type": "display_data"
    }
   ],
   "source": [
    "# Проверка данных\n",
    "sample_batch = next(iter(DataLoader(torch_datasets['train'], batch_size=4, collate_fn=collate_fn)))\n",
    "\n",
    "plt.figure(figsize=(15, 3))\n",
    "for i in range(4):\n",
    "    plt.subplot(1, 4, i+1)\n",
    "    plt.imshow(sample_batch['image'][i].squeeze().numpy(), cmap='gray')\n",
    "    plt.title(f\"Text: {sample_batch['text'][i]}\")\n",
    "    plt.axis('off')\n",
    "plt.show()"
   ]
  },
  {
   "cell_type": "markdown",
   "id": "6dc2f835",
   "metadata": {},
   "source": [
    "### Архитектура CRNN"
   ]
  },
  {
   "cell_type": "code",
   "execution_count": 11,
   "id": "fc7b07e5",
   "metadata": {},
   "outputs": [],
   "source": [
    "class CRNN(nn.Module):\n",
    "    def __init__(self, img_height, num_channels, num_classes):\n",
    "        super(CRNN, self).__init__()\n",
    "        self.cnn = nn.Sequential(\n",
    "            nn.Conv2d(num_channels, 64, 3, stride=1, padding=1),\n",
    "            nn.BatchNorm2d(64),\n",
    "            nn.ReLU(),\n",
    "            nn.MaxPool2d(2, 2),\n",
    "            \n",
    "            nn.Conv2d(64, 128, 3, stride=1, padding=1),\n",
    "            nn.BatchNorm2d(128),\n",
    "            nn.ReLU(),\n",
    "            nn.MaxPool2d(2, 2),\n",
    "            \n",
    "            nn.Conv2d(128, 256, 3, stride=1, padding=1),\n",
    "            nn.BatchNorm2d(256),\n",
    "            nn.ReLU(),\n",
    "            \n",
    "            nn.Conv2d(256, 256, 3, stride=1, padding=1),\n",
    "            nn.ReLU(),\n",
    "            nn.MaxPool2d((2, 1), (2, 1)),\n",
    "            \n",
    "            nn.Conv2d(256, 512, 3, stride=1, padding=1),\n",
    "            nn.BatchNorm2d(512),\n",
    "            nn.ReLU(),\n",
    "            nn.MaxPool2d((2, 1), (2, 1)),\n",
    "            \n",
    "            nn.Conv2d(512, 512, 2, stride=1),\n",
    "            nn.ReLU()\n",
    "        )\n",
    "        \n",
    "        self.lstm = nn.LSTM(512, 256, bidirectional=True, num_layers=2, dropout=0.5)\n",
    "        self.fc = nn.Linear(512, num_classes)\n",
    "        \n",
    "    def forward(self, x):\n",
    "        # CNN\n",
    "        x = self.cnn(x)\n",
    "        \n",
    "        # Подготовка для RNN\n",
    "        x = x.squeeze(2)  # [B, C, W]\n",
    "        x = x.permute(2, 0, 1)  # [W, B, C]\n",
    "        \n",
    "        # RNN\n",
    "        x, _ = self.lstm(x)\n",
    "        \n",
    "        # Классификатор\n",
    "        x = self.fc(x)\n",
    "        return x"
   ]
  },
  {
   "cell_type": "markdown",
   "id": "8dab6bbd",
   "metadata": {},
   "source": [
    "###  Вспомогательные функции"
   ]
  },
  {
   "cell_type": "code",
   "execution_count": 12,
   "id": "427edc26",
   "metadata": {},
   "outputs": [],
   "source": [
    "def decode_predictions(preds, alphabet):\n",
    "    \"\"\"Декодирование предсказаний модели в текст\"\"\"\n",
    "    preds = preds.permute(1, 0, 2)  # (batch, seq_len, num_classes)\n",
    "    preds = torch.softmax(preds, dim=2)\n",
    "    preds = torch.argmax(preds, dim=2)\n",
    "    \n",
    "    texts = []\n",
    "    for pred in preds.cpu().numpy():\n",
    "        text = []\n",
    "        prev_char = None\n",
    "        for char_idx in pred:\n",
    "            if char_idx != len(alphabet):  # Игнорируем blank\n",
    "                char = alphabet[char_idx]\n",
    "                if char != prev_char:  # Удаляем повторы\n",
    "                    text.append(char)\n",
    "                    prev_char = char\n",
    "        texts.append(''.join(text))\n",
    "    return texts\n",
    "\n",
    "def calculate_accuracy(preds, texts, alphabet):\n",
    "    \"\"\"Вычисление accuracy по частичному совпадению\"\"\"\n",
    "    decoded_preds = decode_predictions(preds, alphabet)\n",
    "    correct = 0\n",
    "    \n",
    "    for pred, true_text in zip(decoded_preds, texts):\n",
    "        true_text = true_text.upper()\n",
    "        if len(pred) > 0 and any(c in true_text for c in pred):\n",
    "            correct += 1\n",
    "    \n",
    "    return correct / len(decoded_preds)"
   ]
  },
  {
   "cell_type": "markdown",
   "id": "ca4c3cc1",
   "metadata": {},
   "source": [
    "### Инициализация модели и DataLoader"
   ]
  },
  {
   "cell_type": "code",
   "execution_count": 16,
   "id": "a1cb0d2d",
   "metadata": {},
   "outputs": [],
   "source": [
    "# Инициализация модели\n",
    "model = CRNN(img_height=32, num_channels=1, num_classes=num_classes).to(device)\n",
    "\n",
    "# DataLoader\n",
    "train_loader = DataLoader(\n",
    "    torch_datasets['train'],\n",
    "    batch_size=64,\n",
    "    shuffle=True,\n",
    "    collate_fn=collate_fn,\n",
    "    num_workers=0,\n",
    "    pin_memory=True\n",
    ")\n",
    "\n",
    "test_loader = DataLoader(\n",
    "    torch_datasets['test'],\n",
    "    batch_size=64,\n",
    "    shuffle=False,\n",
    "    collate_fn=collate_fn,\n",
    "    num_workers=0,\n",
    "    pin_memory=True\n",
    ")\n",
    "\n",
    "# Оптимизатор и функция потерь\n",
    "optimizer = optim.Adam(model.parameters(), lr=0.001)\n",
    "criterion = nn.CTCLoss(blank=num_classes-1, zero_infinity=True).to(device)"
   ]
  },
  {
   "cell_type": "markdown",
   "id": "51649f9d",
   "metadata": {},
   "source": [
    "### Функции обучения и валидации"
   ]
  },
  {
   "cell_type": "code",
   "execution_count": 17,
   "id": "3342f6f3",
   "metadata": {},
   "outputs": [],
   "source": [
    "def train_epoch(model, loader, optimizer, criterion, alphabet, device):\n",
    "    model.train()\n",
    "    total_loss = 0\n",
    "    total_acc = 0\n",
    "    \n",
    "    for batch in tqdm(loader, desc=\"Training\"):\n",
    "        images = batch['image'].to(device)\n",
    "        texts = batch['text']\n",
    "        \n",
    "        # Forward pass\n",
    "        optimizer.zero_grad()\n",
    "        preds = model(images)\n",
    "        \n",
    "        # Подготовка таргетов для CTC\n",
    "        input_lengths = torch.full((preds.size(1),), preds.size(0), dtype=torch.long)\n",
    "        target_lengths = torch.tensor([len(text) for text in texts], dtype=torch.long)\n",
    "        \n",
    "        # Расчет потерь\n",
    "        loss = criterion(\n",
    "            preds.log_softmax(2),\n",
    "            batch['targets'].to(device),\n",
    "            input_lengths.to(device),\n",
    "            target_lengths.to(device)\n",
    "        )\n",
    "        \n",
    "        # Backward\n",
    "        loss.backward()\n",
    "        optimizer.step()\n",
    "        \n",
    "        # Расчет accuracy\n",
    "        acc = calculate_accuracy(preds, texts, alphabet)\n",
    "        \n",
    "        total_loss += loss.item()\n",
    "        total_acc += acc\n",
    "    \n",
    "    return total_loss / len(loader), total_acc / len(loader)\n",
    "\n",
    "def validate(model, loader, criterion, alphabet, device):\n",
    "    model.eval()\n",
    "    total_loss = 0\n",
    "    total_acc = 0\n",
    "    \n",
    "    with torch.no_grad():\n",
    "        for batch in tqdm(loader, desc=\"Validation\"):\n",
    "            images = batch['image'].to(device)\n",
    "            texts = batch['text']\n",
    "            \n",
    "            preds = model(images)\n",
    "            \n",
    "            input_lengths = torch.full((preds.size(1),), preds.size(0), dtype=torch.long)\n",
    "            target_lengths = torch.tensor([len(text) for text in texts], dtype=torch.long)\n",
    "            \n",
    "            loss = criterion(\n",
    "                preds.log_softmax(2),\n",
    "                batch['targets'].to(device),\n",
    "                input_lengths.to(device),\n",
    "                target_lengths.to(device)\n",
    "            )\n",
    "            \n",
    "            acc = calculate_accuracy(preds, texts, alphabet)\n",
    "            \n",
    "            total_loss += loss.item()\n",
    "            total_acc += acc\n",
    "    \n",
    "    return total_loss / len(loader), total_acc / len(loader)"
   ]
  },
  {
   "cell_type": "markdown",
   "id": "3a4c1116",
   "metadata": {},
   "source": [
    "### Обучение модели"
   ]
  },
  {
   "cell_type": "code",
   "execution_count": 18,
   "id": "8572b2f0",
   "metadata": {},
   "outputs": [
    {
     "name": "stderr",
     "output_type": "stream",
     "text": [
      "Training: 100%|██████████| 1130/1130 [07:10<00:00,  2.62it/s]\n",
      "Validation: 100%|██████████| 25/25 [00:06<00:00,  4.10it/s]\n"
     ]
    },
    {
     "name": "stdout",
     "output_type": "stream",
     "text": [
      "\n",
      "Epoch 1/10\n",
      "Train Loss: 3.6445 | Train Acc: 0.0453\n",
      "Val Loss: 3.5192 | Val Acc: 0.4462\n",
      "\n",
      "Примеры предсказаний:\n",
      "True: 'ибо'\n",
      "Pred: ''\n",
      "\n",
      "True: 'осталось'\n",
      "Pred: 'П'\n",
      "\n",
      "True: 'поле'\n",
      "Pred: ''\n",
      "\n"
     ]
    },
    {
     "name": "stderr",
     "output_type": "stream",
     "text": [
      "Training: 100%|██████████| 1130/1130 [07:15<00:00,  2.60it/s]\n",
      "Validation: 100%|██████████| 25/25 [00:05<00:00,  4.21it/s]\n"
     ]
    },
    {
     "name": "stdout",
     "output_type": "stream",
     "text": [
      "\n",
      "Epoch 2/10\n",
      "Train Loss: 3.2256 | Train Acc: 0.6055\n",
      "Val Loss: 3.2203 | Val Acc: 0.6763\n",
      "\n",
      "Примеры предсказаний:\n",
      "True: 'ибо'\n",
      "Pred: ''\n",
      "\n",
      "True: 'осталось'\n",
      "Pred: 'СО'\n",
      "\n",
      "True: 'поле'\n",
      "Pred: 'НА'\n",
      "\n"
     ]
    },
    {
     "name": "stderr",
     "output_type": "stream",
     "text": [
      "Training: 100%|██████████| 1130/1130 [07:17<00:00,  2.58it/s]\n",
      "Validation: 100%|██████████| 25/25 [00:05<00:00,  4.20it/s]\n"
     ]
    },
    {
     "name": "stdout",
     "output_type": "stream",
     "text": [
      "\n",
      "Epoch 3/10\n",
      "Train Loss: 2.4543 | Train Acc: 0.8519\n",
      "Val Loss: 2.2544 | Val Acc: 0.9731\n",
      "\n",
      "Примеры предсказаний:\n",
      "True: 'ибо'\n",
      "Pred: 'ИБО'\n",
      "\n",
      "True: 'осталось'\n",
      "Pred: 'ОСТАТОЬ'\n",
      "\n",
      "True: 'поле'\n",
      "Pred: 'ПОГ'\n",
      "\n"
     ]
    },
    {
     "name": "stderr",
     "output_type": "stream",
     "text": [
      "Training: 100%|██████████| 1130/1130 [07:18<00:00,  2.58it/s]\n",
      "Validation: 100%|██████████| 25/25 [00:05<00:00,  4.19it/s]\n"
     ]
    },
    {
     "name": "stdout",
     "output_type": "stream",
     "text": [
      "\n",
      "Epoch 4/10\n",
      "Train Loss: 1.4521 | Train Acc: 0.9782\n",
      "Val Loss: 1.6672 | Val Acc: 0.9850\n",
      "\n",
      "Примеры предсказаний:\n",
      "True: 'ибо'\n",
      "Pred: 'ИБО'\n",
      "\n",
      "True: 'осталось'\n",
      "Pred: 'ОСТАЛОЬ'\n",
      "\n",
      "True: 'поле'\n",
      "Pred: 'ПОЕ'\n",
      "\n"
     ]
    },
    {
     "name": "stderr",
     "output_type": "stream",
     "text": [
      "Training: 100%|██████████| 1130/1130 [07:19<00:00,  2.57it/s]\n",
      "Validation: 100%|██████████| 25/25 [00:06<00:00,  4.14it/s]\n"
     ]
    },
    {
     "name": "stdout",
     "output_type": "stream",
     "text": [
      "\n",
      "Epoch 5/10\n",
      "Train Loss: 1.0072 | Train Acc: 0.9906\n",
      "Val Loss: 1.4739 | Val Acc: 0.9906\n",
      "\n",
      "Примеры предсказаний:\n",
      "True: 'ибо'\n",
      "Pred: 'ИБО'\n",
      "\n",
      "True: 'осталось'\n",
      "Pred: 'ОСТАЛОСЬ'\n",
      "\n",
      "True: 'поле'\n",
      "Pred: 'ПОСО'\n",
      "\n"
     ]
    },
    {
     "name": "stderr",
     "output_type": "stream",
     "text": [
      "Training: 100%|██████████| 1130/1130 [07:20<00:00,  2.57it/s]\n",
      "Validation: 100%|██████████| 25/25 [00:05<00:00,  4.18it/s]\n"
     ]
    },
    {
     "name": "stdout",
     "output_type": "stream",
     "text": [
      "\n",
      "Epoch 6/10\n",
      "Train Loss: 0.8074 | Train Acc: 0.9940\n",
      "Val Loss: 1.3530 | Val Acc: 0.9938\n",
      "\n",
      "Примеры предсказаний:\n",
      "True: 'ибо'\n",
      "Pred: 'ИБО'\n",
      "\n",
      "True: 'осталось'\n",
      "Pred: 'ОСТАЛОСЬ'\n",
      "\n",
      "True: 'поле'\n",
      "Pred: 'ПОЛО'\n",
      "\n"
     ]
    },
    {
     "name": "stderr",
     "output_type": "stream",
     "text": [
      "Training: 100%|██████████| 1130/1130 [07:19<00:00,  2.57it/s]\n",
      "Validation: 100%|██████████| 25/25 [00:05<00:00,  4.17it/s]\n"
     ]
    },
    {
     "name": "stdout",
     "output_type": "stream",
     "text": [
      "\n",
      "Epoch 7/10\n",
      "Train Loss: 0.6782 | Train Acc: 0.9953\n",
      "Val Loss: 1.3285 | Val Acc: 0.9894\n",
      "\n",
      "Примеры предсказаний:\n",
      "True: 'ибо'\n",
      "Pred: 'ИБО'\n",
      "\n",
      "True: 'осталось'\n",
      "Pred: 'ОСТАЛОСЬ'\n",
      "\n",
      "True: 'поле'\n",
      "Pred: 'ПОЛЕ'\n",
      "\n"
     ]
    },
    {
     "name": "stderr",
     "output_type": "stream",
     "text": [
      "Training: 100%|██████████| 1130/1130 [07:13<00:00,  2.61it/s]\n",
      "Validation: 100%|██████████| 25/25 [00:05<00:00,  4.27it/s]\n"
     ]
    },
    {
     "name": "stdout",
     "output_type": "stream",
     "text": [
      "\n",
      "Epoch 8/10\n",
      "Train Loss: 0.5807 | Train Acc: 0.9968\n",
      "Val Loss: 1.3055 | Val Acc: 0.9912\n",
      "\n",
      "Примеры предсказаний:\n",
      "True: 'ибо'\n",
      "Pred: 'ИБО'\n",
      "\n",
      "True: 'осталось'\n",
      "Pred: 'ОСТАЛОСЬ'\n",
      "\n",
      "True: 'поле'\n",
      "Pred: 'ПОЛО'\n",
      "\n"
     ]
    },
    {
     "name": "stderr",
     "output_type": "stream",
     "text": [
      "Training: 100%|██████████| 1130/1130 [07:10<00:00,  2.62it/s]\n",
      "Validation: 100%|██████████| 25/25 [00:06<00:00,  4.15it/s]\n"
     ]
    },
    {
     "name": "stdout",
     "output_type": "stream",
     "text": [
      "\n",
      "Epoch 9/10\n",
      "Train Loss: 0.5031 | Train Acc: 0.9973\n",
      "Val Loss: 1.2799 | Val Acc: 0.9975\n",
      "\n",
      "Примеры предсказаний:\n",
      "True: 'ибо'\n",
      "Pred: 'ИБО'\n",
      "\n",
      "True: 'осталось'\n",
      "Pred: 'ОСТАЛОСЬ'\n",
      "\n",
      "True: 'поле'\n",
      "Pred: 'ПОГО'\n",
      "\n"
     ]
    },
    {
     "name": "stderr",
     "output_type": "stream",
     "text": [
      "Training: 100%|██████████| 1130/1130 [07:12<00:00,  2.62it/s]\n",
      "Validation: 100%|██████████| 25/25 [00:05<00:00,  4.27it/s]"
     ]
    },
    {
     "name": "stdout",
     "output_type": "stream",
     "text": [
      "\n",
      "Epoch 10/10\n",
      "Train Loss: 0.4400 | Train Acc: 0.9980\n",
      "Val Loss: 1.2890 | Val Acc: 0.9900\n",
      "\n",
      "Примеры предсказаний:\n",
      "True: 'ибо'\n",
      "Pred: 'ИБО'\n",
      "\n",
      "True: 'осталось'\n",
      "Pred: 'ОСТАЛОСЬ'\n",
      "\n",
      "True: 'поле'\n",
      "Pred: 'ПОЛО'\n",
      "\n"
     ]
    },
    {
     "name": "stderr",
     "output_type": "stream",
     "text": [
      "\n"
     ]
    }
   ],
   "source": [
    "# История обучения\n",
    "history = {'train_loss': [], 'train_acc': [], 'val_loss': [], 'val_acc': []}\n",
    "\n",
    "# Цикл обучения\n",
    "num_epochs = 10\n",
    "for epoch in range(num_epochs):\n",
    "    train_loss, train_acc = train_epoch(\n",
    "        model, train_loader, optimizer, criterion, alphabet, device\n",
    "    )\n",
    "    val_loss, val_acc = validate(\n",
    "        model, test_loader, criterion, alphabet, device\n",
    "    )\n",
    "    \n",
    "    # Сохранение истории\n",
    "    history['train_loss'].append(train_loss)\n",
    "    history['train_acc'].append(train_acc)\n",
    "    history['val_loss'].append(val_loss)\n",
    "    history['val_acc'].append(val_acc)\n",
    "    \n",
    "    # Вывод результатов\n",
    "    print(f\"\\nEpoch {epoch+1}/{num_epochs}\")\n",
    "    print(f\"Train Loss: {train_loss:.4f} | Train Acc: {train_acc:.4f}\")\n",
    "    print(f\"Val Loss: {val_loss:.4f} | Val Acc: {val_acc:.4f}\")\n",
    "    \n",
    "    # Пример предсказаний\n",
    "    with torch.no_grad():\n",
    "        sample = next(iter(test_loader))\n",
    "        sample_preds = model(sample['image'][:3].to(device))\n",
    "        print(\"\\nПримеры предсказаний:\")\n",
    "        for i in range(3):\n",
    "            print(f\"True: '{sample['text'][i]}'\")\n",
    "            print(f\"Pred: '{decode_predictions(sample_preds, alphabet)[i]}'\\n\")"
   ]
  },
  {
   "cell_type": "markdown",
   "id": "70d44983",
   "metadata": {},
   "source": [
    "### Сохранение модели"
   ]
  },
  {
   "cell_type": "code",
   "execution_count": 20,
   "id": "3be5d933",
   "metadata": {},
   "outputs": [],
   "source": [
    "torch.save({\n",
    "    'model': model.state_dict(),\n",
    "    'alphabet': alphabet,\n",
    "    'optimizer': optimizer.state_dict()\n",
    "}, 'best_crnn.pth')"
   ]
  },
  {
   "cell_type": "markdown",
   "id": "8a92b80f",
   "metadata": {},
   "source": [
    "### Визуализация результатов"
   ]
  },
  {
   "cell_type": "code",
   "execution_count": 19,
   "id": "d6cf3d31",
   "metadata": {},
   "outputs": [
    {
     "data": {
      "image/png": "[encoded data removed]",
      "text/plain": [
       "<Figure size 1200x500 with 2 Axes>"
      ]
     },
     "metadata": {},
     "output_type": "display_data"
    }
   ],
   "source": [
    "# Графики обучения\n",
    "plt.figure(figsize=(12, 5))\n",
    "\n",
    "plt.subplot(1, 2, 1)\n",
    "plt.plot(history['train_loss'], label='Train Loss')\n",
    "plt.plot(history['val_loss'], label='Val Loss')\n",
    "plt.title('Loss')\n",
    "plt.legend()\n",
    "\n",
    "plt.subplot(1, 2, 2)\n",
    "plt.plot(history['train_acc'], label='Train Accuracy')\n",
    "plt.plot(history['val_acc'], label='Val Accuracy')\n",
    "plt.title('Accuracy')\n",
    "plt.legend()\n",
    "\n",
    "plt.tight_layout()\n",
    "plt.show()"
   ]
  }
 ],
 "metadata": {
  "kernelspec": {
   "display_name": "Python 3",
   "language": "python",
   "name": "python3"
  },
  "language_info": {
   "codemirror_mode": {
    "name": "ipython",
    "version": 3
   },
   "file_extension": ".py",
   "mimetype": "text/x-python",
   "name": "python",
   "nbconvert_exporter": "python",
   "pygments_lexer": "ipython3",
   "version": "3.13.0"
  }
 },
 "nbformat": 4,
 "nbformat_minor": 5
}
