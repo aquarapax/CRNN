{
 "cells": [
  {
   "cell_type": "markdown",
   "id": "68f0635a",
   "metadata": {},
   "source": [
    "## Данные"
   ]
  },
  {
   "cell_type": "markdown",
   "id": "c8d2be47",
   "metadata": {},
   "source": [
    "### Библиотеки"
   ]
  },
  {
   "cell_type": "code",
   "execution_count": null,
   "id": "11091e97",
   "metadata": {},
   "outputs": [],
   "source": [
    "import os\n",
    "import cv2\n",
    "import pandas as pd\n",
    "from datasets import Dataset, DatasetDict\n",
    "import matplotlib.pyplot as plt\n",
    "from torch.utils.data import DataLoader\n",
    "from PIL import Image\n",
    "import numpy as np\n",
    "import torch\n",
    "from torch.utils.data import Dataset as TorchDataset\n",
    "import os\n"
   ]
  },
  {
   "cell_type": "markdown",
   "id": "95eb1406",
   "metadata": {},
   "source": [
    "### Подготовка датасета "
   ]
  },
  {
   "cell_type": "code",
   "execution_count": null,
   "id": "6c9a5eb2",
   "metadata": {},
   "outputs": [],
   "source": [
    "def load_and_preprocess_data(base_path=\"data\"):\n",
    "    \"\"\"\n",
    "    Улучшенная версия загрузчика данных:\n",
    "    - Чтение TSV без заголовков\n",
    "    - Надежная обработка путей\n",
    "    - Защита от числовых значений в именах файлов\n",
    "    \"\"\"\n",
    "    # Загрузка меток с явным указанием формата\n",
    "    def load_tsv(filepath):\n",
    "        df = pd.read_csv(\n",
    "            filepath,\n",
    "            sep='\\t',\n",
    "            header=None,\n",
    "            names=[\"image_name\", \"text\"],\n",
    "            dtype={\"image_name\": str, \"text\": str}  # Гарантируем строковый тип\n",
    "        )\n",
    "        # Очистка от возможных NaN\n",
    "        df = df.dropna().reset_index(drop=True)\n",
    "        return df\n",
    "\n",
    "    # Загрузка данных\n",
    "    train_labels = load_tsv(os.path.join(base_path, \"train.tsv\"))\n",
    "    test_labels = load_tsv(os.path.join(base_path, \"test.tsv\"))\n",
    "\n",
    "    # Предобработка изображений с OpenCV\n",
    "    # ========================================================\n",
    "    \n",
    "    def preprocess_image(image_path):\n",
    "        # Базовые параметры размеров\n",
    "        img_height = 32  # Фиксированная высота выходного изображения (увеличение улучшает детализацию, но требует больше ресурсов)\n",
    "        min_width = 100  # Минимальная ширина выходного изображения (меньшие значения обрезают узкие изображения)\n",
    "        \n",
    "        try:\n",
    "            # Загрузка изображения\n",
    "            img = cv2.imread(image_path)\n",
    "            if img is None:\n",
    "                raise ValueError(f\"Не удалось загрузить изображение: {image_path}\")\n",
    "\n",
    "            # 1. Анализ исходного размера\n",
    "            orig_h, orig_w = img.shape[:2]  # Получаем оригинальные размеры\n",
    "            aspect_ratio = orig_w / orig_h  # Соотношение сторон (чем больше, тем \"длиннее\" изображение)\n",
    "            \n",
    "            # 2. Динамические параметры на основе размера\n",
    "            scale_factor = max(1, aspect_ratio / 4)  # Коэффициент масштабирования параметров:\n",
    "                                                    # >1 для широких изображений, =1 для квадратных\n",
    "                                                    # Увеличение делает обработку более агрессивной для широких изображений\n",
    "\n",
    "            # 3. Конвейер обработки изображения\n",
    "            \n",
    "            # Преобразование в градации серого\n",
    "            gray = cv2.cvtColor(img, cv2.COLOR_BGR2GRAY)\n",
    "            \n",
    "            # Параметры подавления шума:\n",
    "            denoise_h = max(3, int(10 / scale_factor))  # Параметр силы подавления шума (h):\n",
    "                                                    # Большие значения сильнее убирают шум, но могут размыть текст\n",
    "            denoised = cv2.fastNlMeansDenoising(gray,\n",
    "                                            h=denoise_h,  # [3-15] Уменьшение убирает шум слабее\n",
    "                                            templateWindowSize=7,  # [5-9] Размер окна сравнения (нечетное)\n",
    "                                            searchWindowSize=21)   # [15-25] Область поиска похожих паттернов\n",
    "\n",
    "            # Адаптивное выравнивание гистограммы (CLAHE)\n",
    "            clahe_clip = max(1.0, 2.0 / scale_factor)  # Предел контраста [1.0-3.0]:\n",
    "                                                    # Меньшие значения сохраняют детали в светлых/темных областях\n",
    "            clahe = cv2.createCLAHE(\n",
    "                clipLimit=clahe_clip,      # [1.0-3.0] Чем выше, тем контрастнее\n",
    "                tileGridSize=(8,8))       # Размер сетки [4x4 до 16x16] - меньшие значения дают локальный контраст\n",
    "            contrast_enhanced = clahe.apply(denoised)\n",
    "\n",
    "            # Адаптивная бинаризация\n",
    "            block_size = max(3, int(21 / scale_factor)) | 1  # Размер блока адаптации [3-21] (нечетный):\n",
    "                                                            # Большие значения лучше для крупного текста\n",
    "            binary = cv2.adaptiveThreshold(\n",
    "                contrast_enhanced, \n",
    "                255,                       # Максимальное значение\n",
    "                cv2.ADAPTIVE_THRESH_GAUSSIAN_C,  # Метод расчета порога\n",
    "                cv2.THRESH_BINARY_INV,     # Инвертированный вывод (белый текст на черном)\n",
    "                block_size,                # Размер области адаптации\n",
    "                7)                         # Константа C [5-15]: меньшие значения сохраняют больше деталей\n",
    "\n",
    "            # 4. Удаление артефактов (только для очень широких изображений)\n",
    "            if aspect_ratio > 5:  # Порог применения [3-8] - регулирует чувствительность к \"длинным\" изображениям\n",
    "                kernel_vertical = cv2.getStructuringElement(\n",
    "                    cv2.MORPH_RECT, \n",
    "                    (1, int(15 / scale_factor)))  # Размер ядра вертикального удаления:\n",
    "                                                # Большие значения удаляют более толстые линии\n",
    "                vertical_removed = cv2.morphologyEx(binary, cv2.MORPH_OPEN, kernel_vertical)\n",
    "                binary = cv2.subtract(binary, vertical_removed)\n",
    "\n",
    "            # 5. Масштабирование с улучшением резкости\n",
    "            new_w = int(img_height * aspect_ratio)  # Расчет новой ширины с сохранением пропорций\n",
    "            \n",
    "            # Интерполяция при масштабировании:\n",
    "            # INTER_NEAREST - быстро, но грубо\n",
    "            # INTER_LINEAR - баланс скорости/качества\n",
    "            # INTER_CUBIC - лучшее качество для уменьшения\n",
    "            # INTER_LANCZOS4 - наилучшее, но медленно\n",
    "            resized = cv2.resize(binary, (new_w, img_height), \n",
    "                            interpolation=cv2.INTER_CUBIC)\n",
    "            \n",
    "            # Увеличение резкости (только для длинных изображений)\n",
    "            if aspect_ratio > 4:  # Порог применения [2-5]\n",
    "                kernel_sharp = np.array([  # Ядро повышения резкости:\n",
    "                    [-1,-1,-1],           # Более сильные значения в центре\n",
    "                    [-1,9,-1],            # увеличивают резкость, но могут добавить шум\n",
    "                    [-1,-1,-1]])          # Сумма значений должна быть =1 для сохранения яркости\n",
    "                resized = cv2.filter2D(resized, -1, kernel_sharp)\n",
    "\n",
    "            # 6. Адаптивное дополнение\n",
    "            if new_w < min_width:\n",
    "                pad_width = min_width - new_w\n",
    "                resized = np.pad(resized, \n",
    "                            ((0,0), (0,pad_width)),  # Дополнение нулями справа\n",
    "                            mode='constant', \n",
    "                            constant_values=0)       # Значение заполнения [0-255]\n",
    "            else:\n",
    "                # Дополнительная обработка для очень длинных изображений\n",
    "                if aspect_ratio > 6:  # Порог [4-8]\n",
    "                    # Размытие для уменьшения шума\n",
    "                    resized = cv2.GaussianBlur(resized, \n",
    "                                            (3,3),  # Размер ядра [3x3 до 5x5]\n",
    "                                            0)      # Сигма (0 = авто расчет)\n",
    "                    \n",
    "                    # Автоматическая бинаризация по Отсу\n",
    "                    _, resized = cv2.threshold(\n",
    "                        resized, \n",
    "                        0,                     # Порог (игнорируется для THRESH_OTSU)\n",
    "                        255,                   # Максимальное значение\n",
    "                        cv2.THRESH_BINARY + cv2.THRESH_OTSU)  # Метод Отсу находит оптимальный порог\n",
    "\n",
    "            # 7. Нормализация\n",
    "            normalized = (resized.astype(np.float32) / 255.0)  # Приведение к [0.0-1.0]\n",
    "            return np.expand_dims(normalized, axis=0)  # Добавление размерности канала (1,H,W)\n",
    "\n",
    "        except Exception as e:\n",
    "            print(f\"Ошибка обработки {image_path}: {str(e)}\")\n",
    "            return None\n",
    "    # =========================================================\n",
    "    # Создание датасета\n",
    "    def create_dataset(labels_df, images_dir):\n",
    "        data = {\"image\": [], \"text\": []}\n",
    "        \n",
    "        for _, row in labels_df.iterrows():\n",
    "            img_name = str(row[\"image_name\"]).strip()  # На всякий случай очищаем\n",
    "            img_path = os.path.join(images_dir, img_name)\n",
    "            \n",
    "            processed_img = preprocess_image(img_path)\n",
    "            if processed_img is not None:\n",
    "                data[\"image\"].append(processed_img)\n",
    "                data[\"text\"].append(str(row[\"text\"]).strip())\n",
    "        \n",
    "        return Dataset.from_dict(data)\n",
    "\n",
    "    # Сборка итогового датасета\n",
    "    return DatasetDict({\n",
    "        # \"train\": create_dataset(train_labels, os.path.join(base_path, \"train\")),\n",
    "        \"test\": create_dataset(test_labels, os.path.join(base_path, \"test\"))\n",
    "    })\n",
    "\n",
    "# Проверка работы\n",
    "try:\n",
    "    dataset = load_and_preprocess_data()\n",
    "    print(f\"Успешно загружено {len(dataset['train'])} тренировочных и {len(dataset['test'])} тестовых примеров\")\n",
    "    print(\"Пример данных:\", dataset[\"test\"][0])\n",
    "except Exception as e:\n",
    "    print(f\"Критическая ошибка: {str(e)}\")\n"
   ]
  },
  {
   "cell_type": "markdown",
   "id": "72923795",
   "metadata": {},
   "source": [
    "### Вывод примеров для оценки качества предобработки"
   ]
  },
  {
   "cell_type": "code",
   "execution_count": null,
   "id": "4cd77da3",
   "metadata": {},
   "outputs": [],
   "source": [
    "import matplotlib.pyplot as plt\n",
    "import math\n",
    "\n",
    "def show_dataset_samples(dataset, split=\"train\", num_samples=10, start_index=0, \n",
    "                        samples_per_row=5, figsize=(20, 10)):\n",
    "    \"\"\"\n",
    "    Визуализирует примеры из датасета в табличном формате\n",
    "    \n",
    "    Параметры:\n",
    "    - dataset: загруженный датасет (DatasetDict)\n",
    "    - split: раздел датасета (\"train\" или \"test\")\n",
    "    - num_samples: общее количество примеров для отображения\n",
    "    - start_index: начальный индекс для отображения (по умолчанию 0)\n",
    "    - samples_per_row: количество примеров в одной строке (по умолчанию 5)\n",
    "    - figsize: размер фигуры matplotlib (ширина, высота)\n",
    "    \"\"\"\n",
    "    # Рассчитываем количество строк\n",
    "    num_rows = math.ceil(num_samples / samples_per_row)\n",
    "    \n",
    "    # Создаем фигуру с правильным соотношением сторон\n",
    "    plt.figure(figsize=figsize)\n",
    "    \n",
    "    for i in range(num_samples):\n",
    "        # Получаем текущий индекс с учетом смещения\n",
    "        current_idx = start_index + i\n",
    "        \n",
    "        # Проверяем, не вышли ли за пределы датасета\n",
    "        if current_idx >= len(dataset[split]):\n",
    "            break\n",
    "            \n",
    "        sample = dataset[split][current_idx]\n",
    "        image = sample[\"image\"][0]  # Получаем первый (и единственный) канал\n",
    "        text = sample[\"text\"]\n",
    "        \n",
    "        # Создаем подграфик с правильным позиционированием\n",
    "        plt.subplot(num_rows, samples_per_row, i+1)\n",
    "        plt.imshow(image, cmap='gray')\n",
    "        \n",
    "        # Форматируем заголовок (перенос строки каждые 50 символов)\n",
    "        formatted_text = '\\n'.join([text[j:j+50] for j in range(0, len(text), 50)])\n",
    "        plt.title(f\"Пример {current_idx}\\n{formatted_text}\", fontsize=8)\n",
    "        plt.axis('off')\n",
    "        \n",
    "        # =========\n",
    "        # =========\n",
    "    \n",
    "    plt.tight_layout()\n",
    "    plt.show()\n",
    "\n",
    "# Пример использования:\n",
    "# Показать 10 примеров начиная с индекса 5, по 5 в строке\n",
    "show_dataset_samples(dataset, split=\"train\", num_samples=25, start_index=500, samples_per_row=5)\n",
    "\n",
    "# Показать 15 примеров начиная с индекса 10, по 3 в строке\n",
    "# show_dataset_samples(dataset, split=\"test\", num_samples=15, start_index=10, samples_per_row=3)"
   ]
  },
  {
   "cell_type": "markdown",
   "id": "b434aa92",
   "metadata": {},
   "source": [
    "### Класс ImageTextDataset"
   ]
  },
  {
   "cell_type": "code",
   "execution_count": 11,
   "id": "6a4a0ca3",
   "metadata": {},
   "outputs": [],
   "source": [
    "class ImageTextDataset(TorchDataset):\n",
    "    def __init__(self, data):\n",
    "        self.data = data\n",
    "        # Находим максимальную ширину во всем датасете\n",
    "        self.max_width = max(np.array(sample['image']).shape[2] for sample in data)\n",
    "        \n",
    "    def __len__(self):\n",
    "        return len(self.data)\n",
    "    \n",
    "    def __getitem__(self, idx):\n",
    "        sample = self.data[idx]\n",
    "        # Конвертируем в numpy array и убираем лишние размерности\n",
    "        img = np.array(sample['image']).squeeze()\n",
    "        text = sample['text']\n",
    "        \n",
    "        # Дополняем изображение до максимальной ширины\n",
    "        pad_width = self.max_width - img.shape[1]\n",
    "        if pad_width > 0:\n",
    "            img = np.pad(img, ((0, 0), (0, pad_width)), mode='constant', constant_values=0)\n",
    "            \n",
    "        return {\n",
    "            'image': torch.from_numpy(img).unsqueeze(0).float(),  # Добавляем размерность канала\n",
    "            'text': text\n",
    "        }\n",
    "\n",
    "def save_datasets(dataset_dict, save_dir=\"preprocessed_data\"):\n",
    "    \"\"\"Сохраняет датасеты в формате HuggingFace\"\"\"\n",
    "    os.makedirs(save_dir, exist_ok=True)\n",
    "    \n",
    "    for split in dataset_dict.keys():\n",
    "        # Сохраняем в родном формате HuggingFace\n",
    "        dataset_dict[split].save_to_disk(os.path.join(save_dir, split))\n",
    "    \n",
    "    print(f\"Датасеты сохранены в {save_dir}\")\n",
    "\n",
    "def load_datasets(save_dir=\"preprocessed_data\"):\n",
    "    \"\"\"Загружает датасеты из сохраненного формата\"\"\"\n",
    "    from datasets import DatasetDict, load_from_disk\n",
    "    \n",
    "    datasets = {}\n",
    "    \n",
    "    for split in ['train', 'test']:\n",
    "        split_dir = os.path.join(save_dir, split)\n",
    "        if os.path.exists(split_dir):\n",
    "            datasets[split] = load_from_disk(split_dir)\n",
    "    \n",
    "    # Конвертируем в PyTorch Dataset\n",
    "    torch_datasets = {\n",
    "        split: ImageTextDataset(datasets[split])\n",
    "        for split in datasets.keys()\n",
    "    }\n",
    "    \n",
    "    print(f\"Загружено {len(torch_datasets.get('train', []))} train и {len(torch_datasets.get('test', []))} test примеров\")\n",
    "    return torch_datasets\n",
    "\n",
    "def collate_fn(batch):\n",
    "    \"\"\"Обрабатывает батчи с изображениями разного размера\"\"\"\n",
    "    max_width = max(item['image'].shape[2] for item in batch)\n",
    "    \n",
    "    images = []\n",
    "    texts = []\n",
    "    for item in batch:\n",
    "        img = item['image']\n",
    "        pad = max_width - img.shape[2]\n",
    "        if pad > 0:\n",
    "            img = torch.nn.functional.pad(img, (0, pad))\n",
    "        images.append(img)\n",
    "        texts.append(item['text'])\n",
    "    \n",
    "    return {\n",
    "        'image': torch.stack(images),\n",
    "        'text': texts\n",
    "    }"
   ]
  },
  {
   "cell_type": "markdown",
   "id": "dd0a7981",
   "metadata": {},
   "source": [
    "### Сохранение датасета"
   ]
  },
  {
   "cell_type": "code",
   "execution_count": null,
   "id": "fd0278b9",
   "metadata": {},
   "outputs": [],
   "source": [
    "save_datasets(dataset)"
   ]
  },
  {
   "cell_type": "markdown",
   "id": "7ea77b09",
   "metadata": {},
   "source": [
    "### Проверка загрузки датасета"
   ]
  },
  {
   "cell_type": "code",
   "execution_count": 12,
   "id": "f41cb104",
   "metadata": {},
   "outputs": [
    {
     "name": "stdout",
     "output_type": "stream",
     "text": [
      "Загружено 72284 train и 1544 test примеров\n",
      "Первые 5 изображений в датасете:\n"
     ]
    },
    {
     "data": {
      "image/png": "[encoded data removed]",
      "text/plain": [
       "<Figure size 1500x500 with 5 Axes>"
      ]
     },
     "metadata": {},
     "output_type": "display_data"
    },
    {
     "name": "stdout",
     "output_type": "stream",
     "text": [
      "\n",
      "Информация о первом батче:\n",
      "Размерность батча изображений: torch.Size([16, 1, 32, 374])\n",
      "Количество текстов в батче: 16\n",
      "Пример текста: момент\n",
      "Максимальная ширина в батче: 374\n",
      "\n",
      "Первые 5 изображений из батча:\n"
     ]
    },
    {
     "data": {
      "image/png": "[encoded data removed]",
      "text/plain": [
       "<Figure size 1500x500 with 5 Axes>"
      ]
     },
     "metadata": {},
     "output_type": "display_data"
    }
   ],
   "source": [
    "# Загрузка данных\n",
    "torch_datasets = load_datasets()\n",
    "\n",
    "# Создание DataLoader\n",
    "train_loader = DataLoader(\n",
    "    torch_datasets['train'],\n",
    "    batch_size=16,\n",
    "    shuffle=True,\n",
    "    collate_fn=collate_fn,\n",
    "    num_workers=0\n",
    ")\n",
    "\n",
    "# 1. Вывод первых 5 отдельных изображений до батчинга\n",
    "print(\"Первые 5 изображений в датасете:\")\n",
    "plt.figure(figsize=(15, 5))\n",
    "for i in range(5):\n",
    "    sample = torch_datasets['train'][i]\n",
    "    img = sample['image'].squeeze().numpy()  # Убираем размерность канала для отображения\n",
    "    \n",
    "    plt.subplot(1, 5, i+1)\n",
    "    plt.imshow(img, cmap='gray')\n",
    "    plt.title(f\"Img {i}\\n{sample['text'][:30]}...\" if len(sample['text']) > 30 else sample['text'])\n",
    "    plt.axis('off')\n",
    "plt.tight_layout()\n",
    "plt.show()\n",
    "\n",
    "# 2. Получение и вывод информации о первом батче\n",
    "print(\"\\nИнформация о первом батче:\")\n",
    "batch = next(iter(train_loader))\n",
    "images, texts = batch['image'], batch['text']\n",
    "\n",
    "print(f\"Размерность батча изображений: {images.shape}\")  # [batch_size, 1, height, max_width]\n",
    "print(f\"Количество текстов в батче: {len(texts)}\")\n",
    "print(f\"Пример текста: {texts[0]}\")\n",
    "print(f\"Максимальная ширина в батче: {images.shape[3]}\")\n",
    "\n",
    "# 3. Визуализация изображений из батча\n",
    "print(\"\\nПервые 5 изображений из батча:\")\n",
    "plt.figure(figsize=(15, 5))\n",
    "for i in range(5):\n",
    "    img = images[i].squeeze().numpy()  # [1, H, W] -> [H, W]\n",
    "    \n",
    "    plt.subplot(1, 5, i+1)\n",
    "    plt.imshow(img, cmap='gray')\n",
    "    plt.title(f\"Batch {i}\\n{texts[i][:30]}...\" if len(texts[i]) > 30 else texts[i])\n",
    "    plt.axis('off')\n",
    "plt.tight_layout()\n",
    "plt.show()"
   ]
  },
  {
   "cell_type": "markdown",
   "id": "6987322a",
   "metadata": {},
   "source": [
    "## Модель и обучение"
   ]
  },
  {
   "cell_type": "markdown",
   "id": "9a2f483e",
   "metadata": {},
   "source": [
    "### Инициализация и настройки"
   ]
  },
  {
   "cell_type": "code",
   "execution_count": 36,
   "id": "8e659e9e",
   "metadata": {},
   "outputs": [
    {
     "name": "stdout",
     "output_type": "stream",
     "text": [
      "Using device: cuda\n"
     ]
    }
   ],
   "source": [
    "import os\n",
    "import random\n",
    "import numpy as np\n",
    "import matplotlib.pyplot as plt\n",
    "from tqdm import tqdm\n",
    "\n",
    "import torch\n",
    "import torch.nn as nn\n",
    "import torch.optim as optim\n",
    "from torch.utils.data import DataLoader\n",
    "from torchvision import transforms\n",
    "\n",
    "# Установка SEED для повторяемости\n",
    "SEED = 42\n",
    "random.seed(SEED)\n",
    "np.random.seed(SEED)\n",
    "torch.manual_seed(SEED)\n",
    "torch.cuda.manual_seed(SEED)\n",
    "torch.backends.cudnn.deterministic = True\n",
    "\n",
    "# Проверка доступности GPU\n",
    "device = torch.device('cuda' if torch.cuda.is_available() else 'cpu')\n",
    "print(f\"Using device: {device}\")"
   ]
  },
  {
   "cell_type": "markdown",
   "id": "f7d674eb",
   "metadata": {},
   "source": [
    "### Алфавит"
   ]
  },
  {
   "cell_type": "code",
   "execution_count": 51,
   "id": "864ad575",
   "metadata": {},
   "outputs": [
    {
     "name": "stdout",
     "output_type": "stream",
     "text": [
      "Итоговый алфавит (105 символов):\n",
      "АБВГДЕЁЖЗИЙКЛМНОПРСТУФХЦЧШЩЪЫЬЭЮЯ0123456789 !\"#$%&'()*+,-./:;<=>?@[\\]^_`{|}~«»№ABCDEFGHIJKLMNOPQRSTUVWXYZ\n"
     ]
    }
   ],
   "source": [
    "# Основной алфавит\n",
    "RUSSIAN_LETTERS = 'АБВГДЕЁЖЗИЙКЛМНОПРСТУФХЦЧШЩЪЫЬЭЮЯ'\n",
    "DIGITS = '0123456789'\n",
    "SPECIAL_CHARS = ' !\"#$%&\\'()*+,-./:;<=>?@[\\\\]^_`{|}~«»№'\n",
    "LATIN_LETTERS = 'ABCDEFGHIJKLMNOPQRSTUVWXYZ'  # Добавляем все латинские\n",
    "\n",
    "# Полный алфавит\n",
    "alphabet = (\n",
    "    RUSSIAN_LETTERS + \n",
    "    DIGITS + \n",
    "    SPECIAL_CHARS + \n",
    "    LATIN_LETTERS  # Добавляем латинские буквы\n",
    ")\n",
    "\n",
    "# Удаляем дубликаты (если есть)\n",
    "alphabet = ''.join(sorted(set(alphabet), key=alphabet.index))\n",
    "num_classes = len(alphabet) + 1  # +1 для blank символа\n",
    "\n",
    "print(f\"Итоговый алфавит ({len(alphabet)} символов):\\n{alphabet}\")"
   ]
  },
  {
   "cell_type": "code",
   "execution_count": null,
   "id": "f0230f33",
   "metadata": {},
   "outputs": [],
   "source": [
    "def collate_fn(batch):\n",
    "    images = []\n",
    "    texts = []\n",
    "    \n",
    "    for item in batch:\n",
    "        images.append(item['image'])\n",
    "        texts.append(item['text'])\n",
    "    \n",
    "    max_width = max(img.shape[2] for img in images)\n",
    "    padded_images = []\n",
    "    \n",
    "    for img in images:\n",
    "        pad = max_width - img.shape[2]\n",
    "        if pad > 0:\n",
    "            img = torch.nn.functional.pad(img, (0, pad))\n",
    "        padded_images.append(img)\n",
    "    \n",
    "    # Конвертация текста в индексы с проверкой\n",
    "    max_text_len = max(len(text) for text in texts)\n",
    "    targets = torch.zeros(len(texts), max_text_len, dtype=torch.long)\n",
    "    targets.fill_(num_classes - 1)  # blank символ\n",
    "    \n",
    "    for i, text in enumerate(texts):\n",
    "        text = text.upper()\n",
    "        for j, char in enumerate(text):\n",
    "            if char in alphabet:\n",
    "                targets[i, j] = alphabet.index(char)\n",
    "            else:\n",
    "                # Заменяем неизвестные символы на специальный токен\n",
    "                targets[i, j] = alphabet.index('?') if '?' in alphabet else num_classes - 1\n",
    "    \n",
    "    return {\n",
    "        'image': torch.stack(padded_images),\n",
    "        'text': texts,\n",
    "        'targets': targets.to(device)\n",
    "    }\n",
    "\n",
    "def load_datasets(save_dir=\"preprocessed_data\"):\n",
    "    \"\"\"Загружает датасеты из сохраненного формата\"\"\"\n",
    "    from datasets import DatasetDict, load_from_disk\n",
    "    \n",
    "    datasets = {}\n",
    "    \n",
    "    for split in ['train', 'test']:\n",
    "        split_dir = os.path.join(save_dir, split)\n",
    "        if os.path.exists(split_dir):\n",
    "            datasets[split] = load_from_disk(split_dir)\n",
    "    \n",
    "    # Конвертируем в PyTorch Dataset\n",
    "    torch_datasets = {\n",
    "        split: ImageTextDataset(datasets[split])\n",
    "        for split in datasets.keys()\n",
    "    }\n",
    "    \n",
    "    print(f\"Загружено {len(torch_datasets.get('train', []))} train и {len(torch_datasets.get('test', []))} test примеров\")\n",
    "    return torch_datasets"
   ]
  },
  {
   "cell_type": "markdown",
   "id": "cdbe91cb",
   "metadata": {},
   "source": [
    "### Архитектура CRNN"
   ]
  },
  {
   "cell_type": "code",
   "execution_count": null,
   "id": "6119a9d7",
   "metadata": {},
   "outputs": [],
   "source": [
    "class CRNN(nn.Module):\n",
    "    def __init__(self, img_height, num_channels, num_classes):\n",
    "        super(CRNN, self).__init__()\n",
    "        self.cnn = nn.Sequential(\n",
    "            nn.Conv2d(num_channels, 64, 3, padding=1),\n",
    "            nn.BatchNorm2d(64),\n",
    "            nn.ReLU(),\n",
    "            nn.MaxPool2d(2, 2),\n",
    "            \n",
    "            nn.Conv2d(64, 128, 3, padding=1),\n",
    "            nn.BatchNorm2d(128),\n",
    "            nn.ReLU(),\n",
    "            nn.MaxPool2d(2, 2),\n",
    "            \n",
    "            nn.Conv2d(128, 256, 3, padding=1),\n",
    "            nn.BatchNorm2d(256),\n",
    "            nn.ReLU(),\n",
    "            \n",
    "            nn.Conv2d(256, 256, 3, padding=1),\n",
    "            nn.ReLU(),\n",
    "            nn.MaxPool2d((2, 1), (2, 1)),\n",
    "            \n",
    "            nn.Conv2d(256, 512, 3, padding=1),\n",
    "            nn.BatchNorm2d(512),\n",
    "            nn.ReLU(),\n",
    "            nn.MaxPool2d((2, 1), (2, 1)),\n",
    "            \n",
    "            nn.Conv2d(512, 512, 2),\n",
    "            nn.ReLU()\n",
    "        )\n",
    "        \n",
    "        self.lstm = nn.LSTM(512, 256, bidirectional=True, num_layers=2, dropout=0.5)\n",
    "        self.fc = nn.Linear(512, num_classes)\n",
    "        \n",
    "    def forward(self, x):\n",
    "        # CNN\n",
    "        x = self.cnn(x)\n",
    "        \n",
    "        # Подготовка для RNN\n",
    "        x = x.squeeze(2)  # [B, C, W]\n",
    "        x = x.permute(2, 0, 1)  # [W, B, C]\n",
    "        \n",
    "        # RNN\n",
    "        x, _ = self.lstm(x)\n",
    "        \n",
    "        # Классификатор\n",
    "        x = self.fc(x)\n",
    "        return x"
   ]
  },
  {
   "cell_type": "markdown",
   "id": "1bbba739",
   "metadata": {},
   "source": [
    "### Вспомогательные функции"
   ]
  },
  {
   "cell_type": "code",
   "execution_count": null,
   "id": "82ceff3d",
   "metadata": {},
   "outputs": [],
   "source": [
    "def decode_predictions(preds, alphabet):\n",
    "    \"\"\"Декодируем предсказания модели в текст\"\"\"\n",
    "    preds = preds.permute(1, 0, 2)  # (seq_len, batch, num_classes) -> (batch, seq_len, num_classes)\n",
    "    preds = torch.softmax(preds, dim=2)\n",
    "    preds = torch.argmax(preds, dim=2)\n",
    "    preds = preds.detach().cpu().numpy()\n",
    "    \n",
    "    texts = []\n",
    "    for pred in preds:\n",
    "        text = []\n",
    "        prev_char = None\n",
    "        for char_idx in pred:\n",
    "            if char_idx != len(alphabet) and (prev_char != char_idx or char_idx == len(alphabet)):\n",
    "                if char_idx < len(alphabet):\n",
    "                    text.append(alphabet[char_idx])\n",
    "            prev_char = char_idx\n",
    "        texts.append(''.join(text))\n",
    "    \n",
    "    return texts\n",
    "\n",
    "def calculate_accuracy(preds, target_texts, alphabet):\n",
    "    \"\"\"Мягкая accuracy с визуализацией ошибок\"\"\"\n",
    "    decoded_preds = decode_predictions(preds, alphabet)\n",
    "    correct = 0\n",
    "    \n",
    "    # Вывод первых 5 примеров для отладки\n",
    "    print(\"\\nПримеры предсказаний:\")\n",
    "    for i in range(min(5, len(decoded_preds))):\n",
    "        print(f\"True: '{target_texts[i]}' | Pred: '{decoded_preds[i]}'\")\n",
    "    \n",
    "    # Считаем частичные совпадения\n",
    "    for pred, target in zip(decoded_preds, target_texts):\n",
    "        target = target.upper()\n",
    "        if len(pred) > 0 and any(c in target for c in pred):\n",
    "            correct += 1\n",
    "    \n",
    "    return correct / len(decoded_preds)"
   ]
  },
  {
   "cell_type": "markdown",
   "id": "bdd08eed",
   "metadata": {},
   "source": [
    "### Функции обучения и валидации"
   ]
  },
  {
   "cell_type": "code",
   "execution_count": null,
   "id": "c1c42973",
   "metadata": {},
   "outputs": [],
   "source": [
    "def train(model, dataloader, criterion, optimizer, alphabet, device):\n",
    "    model.train()\n",
    "    running_loss = 0.0\n",
    "    running_acc = 0.0\n",
    "    \n",
    "    for batch in tqdm(dataloader, desc=\"Training\"):\n",
    "        images = batch['image'].to(device)\n",
    "        texts = batch['text']\n",
    "        \n",
    "        # Подготовка targets для CTC\n",
    "        max_text_len = max(len(text) for text in texts)\n",
    "        targets = torch.zeros(len(texts), max_text_len, dtype=torch.long)\n",
    "        targets.fill_(num_classes - 1)  # Заполняем blank символом\n",
    "        \n",
    "        for i, text in enumerate(texts):\n",
    "            text = text.upper()  # Приводим к верхнему регистру\n",
    "            for j, char in enumerate(text):\n",
    "                if char in alphabet:\n",
    "                    targets[i, j] = alphabet.index(char)\n",
    "        \n",
    "        targets = targets.to(device)\n",
    "        target_lengths = torch.tensor([len(text) for text in texts], dtype=torch.long).to(device)\n",
    "        \n",
    "        # Forward pass\n",
    "        preds = model(images)\n",
    "        # input_lengths = torch.tensor([preds.size(0)] * preds.size(1), dtype=torch.long).to(device)\n",
    "        input_lengths = torch.full(\n",
    "            size=(preds.size(1),),  # batch size\n",
    "            fill_value=preds.size(0),  # seq_len\n",
    "            dtype=torch.long\n",
    "        ).to(device)\n",
    "        \n",
    "        # Вычисление потерь\n",
    "        preds = preds.log_softmax(2)\n",
    "        loss = criterion(preds, targets, input_lengths, target_lengths)\n",
    "        \n",
    "        # Backward pass и оптимизация\n",
    "        optimizer.zero_grad()\n",
    "        loss.backward()\n",
    "        optimizer.step()\n",
    "        \n",
    "        # Вычисление точности\n",
    "        acc = calculate_accuracy(preds, texts, alphabet)\n",
    "        \n",
    "        running_loss += loss.item()\n",
    "        running_acc += acc\n",
    "    \n",
    "    epoch_loss = running_loss / len(dataloader)\n",
    "    epoch_acc = running_acc / len(dataloader)\n",
    "    \n",
    "    return epoch_loss, epoch_acc\n",
    "\n",
    "def validate(model, dataloader, criterion, alphabet, device):\n",
    "    model.eval()\n",
    "    running_loss = 0.0\n",
    "    running_acc = 0.0\n",
    "    \n",
    "    with torch.no_grad():\n",
    "        for batch in tqdm(dataloader, desc=\"Validation\"):\n",
    "            images = batch['image'].to(device)\n",
    "            texts = batch['text']\n",
    "            \n",
    "            # Подготовка targets для CTC\n",
    "            max_text_len = max(len(text) for text in texts)\n",
    "            targets = torch.zeros(len(texts), max_text_len, dtype=torch.long)\n",
    "            targets.fill_(num_classes - 1)  # Заполняем blank символом\n",
    "            \n",
    "            for i, text in enumerate(texts):\n",
    "                text = text.upper()  # Приводим к верхнему регистру\n",
    "                for j, char in enumerate(text):\n",
    "                    if char in alphabet:\n",
    "                        targets[i, j] = alphabet.index(char)\n",
    "            \n",
    "            targets = targets.to(device)\n",
    "            target_lengths = torch.tensor([len(text) for text in texts], dtype=torch.long).to(device)\n",
    "            \n",
    "            # Forward pass\n",
    "            preds = model(images)\n",
    "            # input_lengths = torch.tensor([preds.size(0)] * preds.size(1), dtype=torch.long).to(device)\n",
    "            input_lengths = torch.full(\n",
    "                size=(preds.size(1),),  # batch size\n",
    "                fill_value=preds.size(0),  # seq_len\n",
    "                dtype=torch.long\n",
    "            ).to(device)\n",
    "            \n",
    "            # Вычисление потерь\n",
    "            preds = preds.log_softmax(2)\n",
    "            loss = criterion(preds, targets, input_lengths, target_lengths)\n",
    "            \n",
    "            # Вычисление точности\n",
    "            acc = calculate_accuracy(preds, texts, alphabet)\n",
    "            \n",
    "            running_loss += loss.item()\n",
    "            running_acc += acc\n",
    "    \n",
    "    epoch_loss = running_loss / len(dataloader)\n",
    "    epoch_acc = running_acc / len(dataloader)\n",
    "    \n",
    "    return epoch_loss, epoch_acc"
   ]
  },
  {
   "cell_type": "markdown",
   "id": "4abfb619",
   "metadata": {},
   "source": [
    "### Загрузка данных"
   ]
  },
  {
   "cell_type": "code",
   "execution_count": 56,
   "id": "9eaa395c",
   "metadata": {},
   "outputs": [
    {
     "name": "stdout",
     "output_type": "stream",
     "text": [
      "Загружено 72284 train и 1544 test примеров\n"
     ]
    }
   ],
   "source": [
    "# Загрузка данных\n",
    "torch_datasets = load_datasets()\n",
    "\n",
    "# Создание DataLoader\n",
    "train_loader = DataLoader(\n",
    "    torch_datasets['train'],\n",
    "    batch_size=64,\n",
    "    shuffle=True,\n",
    "    collate_fn=collate_fn,\n",
    "    num_workers=0\n",
    ")\n",
    "\n",
    "test_loader = DataLoader(\n",
    "    torch_datasets['test'],\n",
    "    batch_size=64,\n",
    "    shuffle=False,\n",
    "    collate_fn=collate_fn,\n",
    "    num_workers=0\n",
    ")"
   ]
  },
  {
   "cell_type": "markdown",
   "id": "2902d469",
   "metadata": {},
   "source": [
    "### Основной цикл обучения"
   ]
  },
  {
   "cell_type": "code",
   "execution_count": null,
   "id": "1854b7e4",
   "metadata": {},
   "outputs": [],
   "source": [
    "def main():\n",
    "    # Инициализация\n",
    "    model = CRNN(img_height=32, num_channels=1, num_classes=num_classes).to(device)\n",
    "    optimizer = optim.Adam(model.parameters(), lr=0.001)\n",
    "    scheduler = optim.lr_scheduler.ReduceLROnPlateau(optimizer, 'min', patience=2)\n",
    "    criterion = nn.CTCLoss(blank=num_classes-1, zero_infinity=True).to(device)\n",
    "\n",
    "    # Дебаг перед обучением\n",
    "    debug_batch = next(iter(train_loader))\n",
    "    print(\"Первый батч - текст:\", debug_batch['text'][:3])\n",
    "    with torch.no_grad():\n",
    "        debug_out = model(debug_batch['image'][:1].to(device))\n",
    "        print(\"Пример выхода модели:\", debug_out.shape)\n",
    "        print(\"Декодированное предсказание:\", decode_predictions(debug_out, alphabet)[0])\n",
    "\n",
    "    # Обучение\n",
    "    for epoch in range(5):  # Начните с 5 эпох\n",
    "        model.train()\n",
    "        for batch in tqdm(train_loader, desc=f\"Epoch {epoch+1}\"):\n",
    "            images = batch['image'].to(device)\n",
    "            texts = batch['text']\n",
    "            \n",
    "            # Подготовка таргетов\n",
    "            targets = torch.zeros(len(texts), max(len(t) for t in texts), dtype=torch.long)\n",
    "            for i, text in enumerate(texts):\n",
    "                for j, c in enumerate(text.upper()):\n",
    "                    targets[i,j] = alphabet.index(c) if c in alphabet else num_classes-1\n",
    "            \n",
    "            # Forward\n",
    "            optimizer.zero_grad()\n",
    "            preds = model(images)\n",
    "            input_lengths = torch.tensor([preds.size(0)]*preds.size(1), dtype=torch.long)\n",
    "            target_lengths = torch.tensor([len(t) for t in texts], dtype=torch.long)\n",
    "            \n",
    "            loss = criterion(preds.log_softmax(2), targets.to(device), input_lengths, target_lengths)\n",
    "            \n",
    "            # Backward\n",
    "            loss.backward()\n",
    "            optimizer.step()\n",
    "        \n",
    "        # Валидация\n",
    "        model.eval()\n",
    "        with torch.no_grad():\n",
    "            val_loss, val_acc = validate(model, test_loader, criterion, alphabet, device)\n",
    "        \n",
    "        print(f\"Epoch {epoch+1}: Val Loss: {val_loss:.4f}, Val Acc: {val_acc:.4f}\")\n",
    "        \n",
    "        # Сохранение модели\n",
    "        if val_acc > 0.001:  # Сохраняем только если есть прогресс\n",
    "            torch.save(model.state_dict(), f\"crnn_epoch{epoch+1}.pth\")"
   ]
  },
  {
   "cell_type": "markdown",
   "id": "3332d360",
   "metadata": {},
   "source": [
    "### Обучение"
   ]
  },
  {
   "cell_type": "code",
   "execution_count": 58,
   "id": "6a5e6d5a",
   "metadata": {},
   "outputs": [
    {
     "name": "stdout",
     "output_type": "stream",
     "text": [
      "\n",
      "Epoch 1/2\n"
     ]
    },
    {
     "name": "stderr",
     "output_type": "stream",
     "text": [
      "Training: 100%|██████████| 1130/1130 [08:17<00:00,  2.27it/s]\n",
      "Validation: 100%|██████████| 25/25 [00:06<00:00,  3.73it/s]\n",
      "d:\\Devtools\\Python313\\Lib\\site-packages\\torch\\optim\\lr_scheduler.py:243: UserWarning: The epoch parameter in `scheduler.step()` was not necessary and is being deprecated where possible. Please use `scheduler.step()` to step the scheduler. During the deprecation, if epoch is different from None, the closed form is used instead of the new chainable form, where available. Please open an issue if you are unable to replicate your use case: https://github.com/pytorch/pytorch/issues/new/choose.\n",
      "  warnings.warn(EPOCH_DEPRECATION_WARNING, UserWarning)\n"
     ]
    },
    {
     "name": "stdout",
     "output_type": "stream",
     "text": [
      "Train Loss: 3.8293 | Train Acc: 0.0001\n",
      "Val Loss: 3.7246 | Val Acc: 0.0000\n",
      "\n",
      "Epoch 2/2\n"
     ]
    },
    {
     "name": "stderr",
     "output_type": "stream",
     "text": [
      "Training: 100%|██████████| 1130/1130 [08:28<00:00,  2.22it/s]\n",
      "Validation: 100%|██████████| 25/25 [00:06<00:00,  3.64it/s]\n"
     ]
    },
    {
     "name": "stdout",
     "output_type": "stream",
     "text": [
      "Train Loss: 3.5179 | Train Acc: 0.0000\n",
      "Val Loss: 3.6274 | Val Acc: 0.0000\n"
     ]
    },
    {
     "data": {
      "image/png": "[encoded data removed]",
      "text/plain": [
       "<Figure size 1200x500 with 2 Axes>"
      ]
     },
     "metadata": {},
     "output_type": "display_data"
    },
    {
     "name": "stdout",
     "output_type": "stream",
     "text": [
      "\n",
      "Testing the best model...\n"
     ]
    },
    {
     "name": "stderr",
     "output_type": "stream",
     "text": [
      "Validation: 100%|██████████| 25/25 [00:06<00:00,  3.60it/s]"
     ]
    },
    {
     "name": "stdout",
     "output_type": "stream",
     "text": [
      "Test Loss: 3.6274 | Test Accuracy: 0.0000\n"
     ]
    },
    {
     "name": "stderr",
     "output_type": "stream",
     "text": [
      "\n"
     ]
    }
   ],
   "source": [
    "main()"
   ]
  },
  {
   "cell_type": "markdown",
   "id": "2e38d70a",
   "metadata": {},
   "source": [
    "### Конец"
   ]
  },
  {
   "cell_type": "code",
   "execution_count": 49,
   "id": "c4c13c51",
   "metadata": {},
   "outputs": [
    {
     "name": "stdout",
     "output_type": "stream",
     "text": [
      "Размер батча изображений: torch.Size([64, 1, 32, 374])\n",
      "Пример текста: плоскости\n",
      "Максимальное значение пикселя: 1.0\n",
      "Минимальное значение пикселя: 0.0\n"
     ]
    },
    {
     "data": {
      "image/png": "[encoded data removed]",
      "text/plain": [
       "<Figure size 640x480 with 1 Axes>"
      ]
     },
     "metadata": {},
     "output_type": "display_data"
    }
   ],
   "source": [
    "# Проверка данных\n",
    "sample = next(iter(train_loader))\n",
    "print(\"Размер батча изображений:\", sample['image'].shape)\n",
    "print(\"Пример текста:\", sample['text'][0])\n",
    "print(\"Максимальное значение пикселя:\", sample['image'].max().item())\n",
    "print(\"Минимальное значение пикселя:\", sample['image'].min().item())\n",
    "\n",
    "# Визуализация\n",
    "plt.imshow(sample['image'][0].squeeze().cpu().numpy(), cmap='gray')\n",
    "plt.title(f\"Label: {sample['text'][0]}\")\n",
    "plt.show()"
   ]
  },
  {
   "cell_type": "code",
   "execution_count": 50,
   "id": "047ab423",
   "metadata": {},
   "outputs": [
    {
     "name": "stdout",
     "output_type": "stream",
     "text": [
      "ОШИБКА: В алфавите отсутствуют символы: ['O', 'H', 'P', 'Y', 'B', 'S', 'T', 'I', 'U', 'X', '»', '№', 'E', 'C', 'R', '«']\n",
      "Обновленный алфавит (92 символов): АБВГДЕЁЖЗИЙКЛМНОПРСТУФХЦЧШЩЪЫЬЭЮЯ0123456789 !\"#$%&'()*+,-./:;<=>?@[\\]^_`{|}~OHPYBSTIUX»№ECR«\n"
     ]
    }
   ],
   "source": [
    "# Проверка соответствия символов\n",
    "all_chars = set()\n",
    "for batch in train_loader:\n",
    "    for text in batch['text']:\n",
    "        all_chars.update(text.upper())\n",
    "        \n",
    "missing_chars = [c for c in all_chars if c not in alphabet]\n",
    "if missing_chars:\n",
    "    print(f\"ОШИБКА: В алфавите отсутствуют символы: {missing_chars}\")\n",
    "    alphabet += ''.join(missing_chars)\n",
    "    num_classes = len(alphabet) + 1\n",
    "    print(f\"Обновленный алфавит ({len(alphabet)} символов): {alphabet}\")"
   ]
  },
  {
   "cell_type": "code",
   "execution_count": null,
   "id": "3dd73c18",
   "metadata": {},
   "outputs": [
    {
     "name": "stdout",
     "output_type": "stream",
     "text": [
      "\n",
      "=== DEBUG START ===\n",
      "Размеры изображений: torch.Size([64, 1, 32, 374])\n",
      "Пример 5 текстов: ['химическое', 'пища.', 'Найдены', 'равен', 'Начало']\n",
      "Мин/Макс пикселей: 0.0 1.0\n",
      "\n",
      "Текст: 'химическое'\n",
      "Индексы: [22, 9, 13, 9, 24, 5, 18, 11, 15, 5]\n"
     ]
    },
    {
     "ename": "TypeError",
     "evalue": "linear(): argument 'input' (position 1) must be Tensor, not tuple",
     "output_type": "error",
     "traceback": [
      "\u001b[1;31m---------------------------------------------------------------------------\u001b[0m",
      "\u001b[1;31mTypeError\u001b[0m                                 Traceback (most recent call last)",
      "Cell \u001b[1;32mIn[59], line 16\u001b[0m\n\u001b[0;32m     14\u001b[0m model\u001b[38;5;241m.\u001b[39meval()\n\u001b[0;32m     15\u001b[0m \u001b[38;5;28;01mwith\u001b[39;00m torch\u001b[38;5;241m.\u001b[39mno_grad():\n\u001b[1;32m---> 16\u001b[0m     sample_output \u001b[38;5;241m=\u001b[39m \u001b[43mmodel\u001b[49m\u001b[43m(\u001b[49m\u001b[43mdebug_batch\u001b[49m\u001b[43m[\u001b[49m\u001b[38;5;124;43m'\u001b[39;49m\u001b[38;5;124;43mimage\u001b[39;49m\u001b[38;5;124;43m'\u001b[39;49m\u001b[43m]\u001b[49m\u001b[43m[\u001b[49m\u001b[43m:\u001b[49m\u001b[38;5;241;43m1\u001b[39;49m\u001b[43m]\u001b[49m\u001b[38;5;241;43m.\u001b[39;49m\u001b[43mto\u001b[49m\u001b[43m(\u001b[49m\u001b[43mdevice\u001b[49m\u001b[43m)\u001b[49m\u001b[43m)\u001b[49m\n\u001b[0;32m     17\u001b[0m     \u001b[38;5;28mprint\u001b[39m(\u001b[38;5;124m\"\u001b[39m\u001b[38;5;130;01m\\n\u001b[39;00m\u001b[38;5;124mВыход модели shape:\u001b[39m\u001b[38;5;124m\"\u001b[39m, sample_output\u001b[38;5;241m.\u001b[39mshape)\n\u001b[0;32m     18\u001b[0m     \u001b[38;5;28mprint\u001b[39m(\u001b[38;5;124m\"\u001b[39m\u001b[38;5;124mПример предсказания:\u001b[39m\u001b[38;5;124m\"\u001b[39m, decode_predictions(sample_output, alphabet)[\u001b[38;5;241m0\u001b[39m])\n",
      "File \u001b[1;32md:\\Devtools\\Python313\\Lib\\site-packages\\torch\\nn\\modules\\module.py:1739\u001b[0m, in \u001b[0;36mModule._wrapped_call_impl\u001b[1;34m(self, *args, **kwargs)\u001b[0m\n\u001b[0;32m   1737\u001b[0m     \u001b[38;5;28;01mreturn\u001b[39;00m \u001b[38;5;28mself\u001b[39m\u001b[38;5;241m.\u001b[39m_compiled_call_impl(\u001b[38;5;241m*\u001b[39margs, \u001b[38;5;241m*\u001b[39m\u001b[38;5;241m*\u001b[39mkwargs)  \u001b[38;5;66;03m# type: ignore[misc]\u001b[39;00m\n\u001b[0;32m   1738\u001b[0m \u001b[38;5;28;01melse\u001b[39;00m:\n\u001b[1;32m-> 1739\u001b[0m     \u001b[38;5;28;01mreturn\u001b[39;00m \u001b[38;5;28;43mself\u001b[39;49m\u001b[38;5;241;43m.\u001b[39;49m\u001b[43m_call_impl\u001b[49m\u001b[43m(\u001b[49m\u001b[38;5;241;43m*\u001b[39;49m\u001b[43margs\u001b[49m\u001b[43m,\u001b[49m\u001b[43m \u001b[49m\u001b[38;5;241;43m*\u001b[39;49m\u001b[38;5;241;43m*\u001b[39;49m\u001b[43mkwargs\u001b[49m\u001b[43m)\u001b[49m\n",
      "File \u001b[1;32md:\\Devtools\\Python313\\Lib\\site-packages\\torch\\nn\\modules\\module.py:1750\u001b[0m, in \u001b[0;36mModule._call_impl\u001b[1;34m(self, *args, **kwargs)\u001b[0m\n\u001b[0;32m   1745\u001b[0m \u001b[38;5;66;03m# If we don't have any hooks, we want to skip the rest of the logic in\u001b[39;00m\n\u001b[0;32m   1746\u001b[0m \u001b[38;5;66;03m# this function, and just call forward.\u001b[39;00m\n\u001b[0;32m   1747\u001b[0m \u001b[38;5;28;01mif\u001b[39;00m \u001b[38;5;129;01mnot\u001b[39;00m (\u001b[38;5;28mself\u001b[39m\u001b[38;5;241m.\u001b[39m_backward_hooks \u001b[38;5;129;01mor\u001b[39;00m \u001b[38;5;28mself\u001b[39m\u001b[38;5;241m.\u001b[39m_backward_pre_hooks \u001b[38;5;129;01mor\u001b[39;00m \u001b[38;5;28mself\u001b[39m\u001b[38;5;241m.\u001b[39m_forward_hooks \u001b[38;5;129;01mor\u001b[39;00m \u001b[38;5;28mself\u001b[39m\u001b[38;5;241m.\u001b[39m_forward_pre_hooks\n\u001b[0;32m   1748\u001b[0m         \u001b[38;5;129;01mor\u001b[39;00m _global_backward_pre_hooks \u001b[38;5;129;01mor\u001b[39;00m _global_backward_hooks\n\u001b[0;32m   1749\u001b[0m         \u001b[38;5;129;01mor\u001b[39;00m _global_forward_hooks \u001b[38;5;129;01mor\u001b[39;00m _global_forward_pre_hooks):\n\u001b[1;32m-> 1750\u001b[0m     \u001b[38;5;28;01mreturn\u001b[39;00m \u001b[43mforward_call\u001b[49m\u001b[43m(\u001b[49m\u001b[38;5;241;43m*\u001b[39;49m\u001b[43margs\u001b[49m\u001b[43m,\u001b[49m\u001b[43m \u001b[49m\u001b[38;5;241;43m*\u001b[39;49m\u001b[38;5;241;43m*\u001b[39;49m\u001b[43mkwargs\u001b[49m\u001b[43m)\u001b[49m\n\u001b[0;32m   1752\u001b[0m result \u001b[38;5;241m=\u001b[39m \u001b[38;5;28;01mNone\u001b[39;00m\n\u001b[0;32m   1753\u001b[0m called_always_called_hooks \u001b[38;5;241m=\u001b[39m \u001b[38;5;28mset\u001b[39m()\n",
      "Cell \u001b[1;32mIn[18], line 84\u001b[0m, in \u001b[0;36mCRNN.forward\u001b[1;34m(self, x)\u001b[0m\n\u001b[0;32m     81\u001b[0m x \u001b[38;5;241m=\u001b[39m x\u001b[38;5;241m.\u001b[39mpermute(\u001b[38;5;241m2\u001b[39m, \u001b[38;5;241m0\u001b[39m, \u001b[38;5;241m1\u001b[39m)  \u001b[38;5;66;03m# Меняем порядок измерений для RNN (seq_len, batch, features)\u001b[39;00m\n\u001b[0;32m     83\u001b[0m \u001b[38;5;66;03m# RNN\u001b[39;00m\n\u001b[1;32m---> 84\u001b[0m x, _ \u001b[38;5;241m=\u001b[39m \u001b[38;5;28;43mself\u001b[39;49m\u001b[38;5;241;43m.\u001b[39;49m\u001b[43mrnn\u001b[49m\u001b[43m(\u001b[49m\u001b[43mx\u001b[49m\u001b[43m)\u001b[49m\n\u001b[0;32m     86\u001b[0m \u001b[38;5;66;03m# Классификатор\u001b[39;00m\n\u001b[0;32m     87\u001b[0m x \u001b[38;5;241m=\u001b[39m \u001b[38;5;28mself\u001b[39m\u001b[38;5;241m.\u001b[39mclassifier(x)\n",
      "File \u001b[1;32md:\\Devtools\\Python313\\Lib\\site-packages\\torch\\nn\\modules\\module.py:1739\u001b[0m, in \u001b[0;36mModule._wrapped_call_impl\u001b[1;34m(self, *args, **kwargs)\u001b[0m\n\u001b[0;32m   1737\u001b[0m     \u001b[38;5;28;01mreturn\u001b[39;00m \u001b[38;5;28mself\u001b[39m\u001b[38;5;241m.\u001b[39m_compiled_call_impl(\u001b[38;5;241m*\u001b[39margs, \u001b[38;5;241m*\u001b[39m\u001b[38;5;241m*\u001b[39mkwargs)  \u001b[38;5;66;03m# type: ignore[misc]\u001b[39;00m\n\u001b[0;32m   1738\u001b[0m \u001b[38;5;28;01melse\u001b[39;00m:\n\u001b[1;32m-> 1739\u001b[0m     \u001b[38;5;28;01mreturn\u001b[39;00m \u001b[38;5;28;43mself\u001b[39;49m\u001b[38;5;241;43m.\u001b[39;49m\u001b[43m_call_impl\u001b[49m\u001b[43m(\u001b[49m\u001b[38;5;241;43m*\u001b[39;49m\u001b[43margs\u001b[49m\u001b[43m,\u001b[49m\u001b[43m \u001b[49m\u001b[38;5;241;43m*\u001b[39;49m\u001b[38;5;241;43m*\u001b[39;49m\u001b[43mkwargs\u001b[49m\u001b[43m)\u001b[49m\n",
      "File \u001b[1;32md:\\Devtools\\Python313\\Lib\\site-packages\\torch\\nn\\modules\\module.py:1750\u001b[0m, in \u001b[0;36mModule._call_impl\u001b[1;34m(self, *args, **kwargs)\u001b[0m\n\u001b[0;32m   1745\u001b[0m \u001b[38;5;66;03m# If we don't have any hooks, we want to skip the rest of the logic in\u001b[39;00m\n\u001b[0;32m   1746\u001b[0m \u001b[38;5;66;03m# this function, and just call forward.\u001b[39;00m\n\u001b[0;32m   1747\u001b[0m \u001b[38;5;28;01mif\u001b[39;00m \u001b[38;5;129;01mnot\u001b[39;00m (\u001b[38;5;28mself\u001b[39m\u001b[38;5;241m.\u001b[39m_backward_hooks \u001b[38;5;129;01mor\u001b[39;00m \u001b[38;5;28mself\u001b[39m\u001b[38;5;241m.\u001b[39m_backward_pre_hooks \u001b[38;5;129;01mor\u001b[39;00m \u001b[38;5;28mself\u001b[39m\u001b[38;5;241m.\u001b[39m_forward_hooks \u001b[38;5;129;01mor\u001b[39;00m \u001b[38;5;28mself\u001b[39m\u001b[38;5;241m.\u001b[39m_forward_pre_hooks\n\u001b[0;32m   1748\u001b[0m         \u001b[38;5;129;01mor\u001b[39;00m _global_backward_pre_hooks \u001b[38;5;129;01mor\u001b[39;00m _global_backward_hooks\n\u001b[0;32m   1749\u001b[0m         \u001b[38;5;129;01mor\u001b[39;00m _global_forward_hooks \u001b[38;5;129;01mor\u001b[39;00m _global_forward_pre_hooks):\n\u001b[1;32m-> 1750\u001b[0m     \u001b[38;5;28;01mreturn\u001b[39;00m \u001b[43mforward_call\u001b[49m\u001b[43m(\u001b[49m\u001b[38;5;241;43m*\u001b[39;49m\u001b[43margs\u001b[49m\u001b[43m,\u001b[49m\u001b[43m \u001b[49m\u001b[38;5;241;43m*\u001b[39;49m\u001b[38;5;241;43m*\u001b[39;49m\u001b[43mkwargs\u001b[49m\u001b[43m)\u001b[49m\n\u001b[0;32m   1752\u001b[0m result \u001b[38;5;241m=\u001b[39m \u001b[38;5;28;01mNone\u001b[39;00m\n\u001b[0;32m   1753\u001b[0m called_always_called_hooks \u001b[38;5;241m=\u001b[39m \u001b[38;5;28mset\u001b[39m()\n",
      "File \u001b[1;32md:\\Devtools\\Python313\\Lib\\site-packages\\torch\\nn\\modules\\container.py:250\u001b[0m, in \u001b[0;36mSequential.forward\u001b[1;34m(self, input)\u001b[0m\n\u001b[0;32m    248\u001b[0m \u001b[38;5;28;01mdef\u001b[39;00m \u001b[38;5;21mforward\u001b[39m(\u001b[38;5;28mself\u001b[39m, \u001b[38;5;28minput\u001b[39m):\n\u001b[0;32m    249\u001b[0m     \u001b[38;5;28;01mfor\u001b[39;00m module \u001b[38;5;129;01min\u001b[39;00m \u001b[38;5;28mself\u001b[39m:\n\u001b[1;32m--> 250\u001b[0m         \u001b[38;5;28minput\u001b[39m \u001b[38;5;241m=\u001b[39m \u001b[43mmodule\u001b[49m\u001b[43m(\u001b[49m\u001b[38;5;28;43minput\u001b[39;49m\u001b[43m)\u001b[49m\n\u001b[0;32m    251\u001b[0m     \u001b[38;5;28;01mreturn\u001b[39;00m \u001b[38;5;28minput\u001b[39m\n",
      "File \u001b[1;32md:\\Devtools\\Python313\\Lib\\site-packages\\torch\\nn\\modules\\module.py:1739\u001b[0m, in \u001b[0;36mModule._wrapped_call_impl\u001b[1;34m(self, *args, **kwargs)\u001b[0m\n\u001b[0;32m   1737\u001b[0m     \u001b[38;5;28;01mreturn\u001b[39;00m \u001b[38;5;28mself\u001b[39m\u001b[38;5;241m.\u001b[39m_compiled_call_impl(\u001b[38;5;241m*\u001b[39margs, \u001b[38;5;241m*\u001b[39m\u001b[38;5;241m*\u001b[39mkwargs)  \u001b[38;5;66;03m# type: ignore[misc]\u001b[39;00m\n\u001b[0;32m   1738\u001b[0m \u001b[38;5;28;01melse\u001b[39;00m:\n\u001b[1;32m-> 1739\u001b[0m     \u001b[38;5;28;01mreturn\u001b[39;00m \u001b[38;5;28;43mself\u001b[39;49m\u001b[38;5;241;43m.\u001b[39;49m\u001b[43m_call_impl\u001b[49m\u001b[43m(\u001b[49m\u001b[38;5;241;43m*\u001b[39;49m\u001b[43margs\u001b[49m\u001b[43m,\u001b[49m\u001b[43m \u001b[49m\u001b[38;5;241;43m*\u001b[39;49m\u001b[38;5;241;43m*\u001b[39;49m\u001b[43mkwargs\u001b[49m\u001b[43m)\u001b[49m\n",
      "File \u001b[1;32md:\\Devtools\\Python313\\Lib\\site-packages\\torch\\nn\\modules\\module.py:1750\u001b[0m, in \u001b[0;36mModule._call_impl\u001b[1;34m(self, *args, **kwargs)\u001b[0m\n\u001b[0;32m   1745\u001b[0m \u001b[38;5;66;03m# If we don't have any hooks, we want to skip the rest of the logic in\u001b[39;00m\n\u001b[0;32m   1746\u001b[0m \u001b[38;5;66;03m# this function, and just call forward.\u001b[39;00m\n\u001b[0;32m   1747\u001b[0m \u001b[38;5;28;01mif\u001b[39;00m \u001b[38;5;129;01mnot\u001b[39;00m (\u001b[38;5;28mself\u001b[39m\u001b[38;5;241m.\u001b[39m_backward_hooks \u001b[38;5;129;01mor\u001b[39;00m \u001b[38;5;28mself\u001b[39m\u001b[38;5;241m.\u001b[39m_backward_pre_hooks \u001b[38;5;129;01mor\u001b[39;00m \u001b[38;5;28mself\u001b[39m\u001b[38;5;241m.\u001b[39m_forward_hooks \u001b[38;5;129;01mor\u001b[39;00m \u001b[38;5;28mself\u001b[39m\u001b[38;5;241m.\u001b[39m_forward_pre_hooks\n\u001b[0;32m   1748\u001b[0m         \u001b[38;5;129;01mor\u001b[39;00m _global_backward_pre_hooks \u001b[38;5;129;01mor\u001b[39;00m _global_backward_hooks\n\u001b[0;32m   1749\u001b[0m         \u001b[38;5;129;01mor\u001b[39;00m _global_forward_hooks \u001b[38;5;129;01mor\u001b[39;00m _global_forward_pre_hooks):\n\u001b[1;32m-> 1750\u001b[0m     \u001b[38;5;28;01mreturn\u001b[39;00m \u001b[43mforward_call\u001b[49m\u001b[43m(\u001b[49m\u001b[38;5;241;43m*\u001b[39;49m\u001b[43margs\u001b[49m\u001b[43m,\u001b[49m\u001b[43m \u001b[49m\u001b[38;5;241;43m*\u001b[39;49m\u001b[38;5;241;43m*\u001b[39;49m\u001b[43mkwargs\u001b[49m\u001b[43m)\u001b[49m\n\u001b[0;32m   1752\u001b[0m result \u001b[38;5;241m=\u001b[39m \u001b[38;5;28;01mNone\u001b[39;00m\n\u001b[0;32m   1753\u001b[0m called_always_called_hooks \u001b[38;5;241m=\u001b[39m \u001b[38;5;28mset\u001b[39m()\n",
      "File \u001b[1;32md:\\Devtools\\Python313\\Lib\\site-packages\\torch\\nn\\modules\\linear.py:125\u001b[0m, in \u001b[0;36mLinear.forward\u001b[1;34m(self, input)\u001b[0m\n\u001b[0;32m    124\u001b[0m \u001b[38;5;28;01mdef\u001b[39;00m \u001b[38;5;21mforward\u001b[39m(\u001b[38;5;28mself\u001b[39m, \u001b[38;5;28minput\u001b[39m: Tensor) \u001b[38;5;241m-\u001b[39m\u001b[38;5;241m>\u001b[39m Tensor:\n\u001b[1;32m--> 125\u001b[0m     \u001b[38;5;28;01mreturn\u001b[39;00m \u001b[43mF\u001b[49m\u001b[38;5;241;43m.\u001b[39;49m\u001b[43mlinear\u001b[49m\u001b[43m(\u001b[49m\u001b[38;5;28;43minput\u001b[39;49m\u001b[43m,\u001b[49m\u001b[43m \u001b[49m\u001b[38;5;28;43mself\u001b[39;49m\u001b[38;5;241;43m.\u001b[39;49m\u001b[43mweight\u001b[49m\u001b[43m,\u001b[49m\u001b[43m \u001b[49m\u001b[38;5;28;43mself\u001b[39;49m\u001b[38;5;241;43m.\u001b[39;49m\u001b[43mbias\u001b[49m\u001b[43m)\u001b[49m\n",
      "\u001b[1;31mTypeError\u001b[0m: linear(): argument 'input' (position 1) must be Tensor, not tuple"
     ]
    }
   ],
   "source": [
    "# # Экстренная проверка данных\n",
    "# debug_batch = next(iter(train_loader))\n",
    "# print(\"\\n=== DEBUG START ===\")\n",
    "# print(\"Размеры изображений:\", debug_batch['image'].shape)\n",
    "# print(\"Пример 5 текстов:\", debug_batch['text'][:5])\n",
    "# print(\"Мин/Макс пикселей:\", debug_batch['image'].min().item(), debug_batch['image'].max().item())\n",
    "\n",
    "# # Проверка преобразования текста в индексы\n",
    "# sample_text = debug_batch['text'][0]\n",
    "# print(f\"\\nТекст: '{sample_text}'\")\n",
    "# print(\"Индексы:\", [alphabet.index(c) if c in alphabet else 'UNK' for c in sample_text.upper()])\n",
    "\n",
    "# # Проверка forward pass\n",
    "# model.eval()\n",
    "# with torch.no_grad():\n",
    "#     sample_output = model(debug_batch['image'][:1].to(device))\n",
    "#     print(\"\\nВыход модели shape:\", sample_output.shape)\n",
    "#     print(\"Пример предсказания:\", decode_predictions(sample_output, alphabet)[0])\n",
    "# print(\"=== DEBUG END ===\\n\")"
   ]
  }
 ],
 "metadata": {
  "kernelspec": {
   "display_name": "Python 3",
   "language": "python",
   "name": "python3"
  },
  "language_info": {
   "codemirror_mode": {
    "name": "ipython",
    "version": 3
   },
   "file_extension": ".py",
   "mimetype": "text/x-python",
   "name": "python",
   "nbconvert_exporter": "python",
   "pygments_lexer": "ipython3",
   "version": "3.13.0"
  }
 },
 "nbformat": 4,
 "nbformat_minor": 5
}
